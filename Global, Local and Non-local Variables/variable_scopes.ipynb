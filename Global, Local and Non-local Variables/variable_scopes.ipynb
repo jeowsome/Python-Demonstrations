{
 "cells": [
  {
   "cell_type": "code",
   "execution_count": 1,
   "id": "908539ad-511c-464e-ad62-a670ca059846",
   "metadata": {},
   "outputs": [
    {
     "name": "stdout",
     "output_type": "stream",
     "text": [
      "Global x =  global\n",
      "globalglobal\n",
      "local\n",
      "Global x =  globalglobal\n"
     ]
    }
   ],
   "source": [
    "x = \"global\"\n",
    "\n",
    "\n",
    "def func1():\n",
    "    global x\n",
    "    y = \"local\"\n",
    "    x = x * 2\n",
    "    print(x)\n",
    "    print(y)\n",
    "    \n",
    "    \n",
    "print(\"Global x = \", x)\n",
    "func1()\n",
    "print(\"Global x = \", x)"
   ]
  },
  {
   "cell_type": "code",
   "execution_count": 2,
   "id": "9b801afb-8dcd-4391-8d0e-32d3d3b50b9a",
   "metadata": {},
   "outputs": [
    {
     "name": "stdout",
     "output_type": "stream",
     "text": [
      "Inner : nonlocal\n",
      "Outer : nonlocal\n"
     ]
    }
   ],
   "source": [
    "def outer():\n",
    "    x = \"local\"\n",
    "    \n",
    "    def inner():\n",
    "        nonlocal x\n",
    "        x = \"nonlocal\"\n",
    "        print(\"Inner :\", x)\n",
    "        \n",
    "    inner()\n",
    "    print(\"Outer :\", x)\n",
    "    \n",
    "outer()"
   ]
  }
 ],
 "metadata": {
  "kernelspec": {
   "display_name": "Python 3 (ipykernel)",
   "language": "python",
   "name": "python3"
  },
  "language_info": {
   "codemirror_mode": {
    "name": "ipython",
    "version": 3
   },
   "file_extension": ".py",
   "mimetype": "text/x-python",
   "name": "python",
   "nbconvert_exporter": "python",
   "pygments_lexer": "ipython3",
   "version": "3.9.9"
  }
 },
 "nbformat": 4,
 "nbformat_minor": 5
}
