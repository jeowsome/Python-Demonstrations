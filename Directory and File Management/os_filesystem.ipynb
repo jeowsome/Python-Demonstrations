{
 "cells": [
  {
   "cell_type": "code",
   "execution_count": 1,
   "id": "2211c965-76e7-4db9-9303-e2235b420aed",
   "metadata": {},
   "outputs": [
    {
     "name": "stdout",
     "output_type": "stream",
     "text": [
      "/Volumes/OSSPHINC/Python And Flask Demonstrations Practice Course - Udemy/10. Directory and File Management\n",
      "b'/Volumes/OSSPHINC/Python And Flask Demonstrations Practice Course - Udemy/10. Directory and File Management'\n"
     ]
    }
   ],
   "source": [
    "import os\n",
    "\n",
    "print(os.getcwd())  # present working directory\n",
    "print(os.getcwdb())  # present working directory as byte object"
   ]
  },
  {
   "cell_type": "code",
   "execution_count": 2,
   "id": "9107d863-351b-43f0-aeaf-3be8bcf5e28a",
   "metadata": {},
   "outputs": [
    {
     "name": "stdout",
     "output_type": "stream",
     "text": [
      "['.Spotlight-V100', 'twitter_clone', 'OSSPHINC', 'Study', 'monalisa.jpg', 'monalisa2.png', 'Web Calendar', 'RN', 'Loan Calculator', '.TemporaryItems', '.Trashes', '._owl.jpeg', 'Pirple', '._monalisa.jpg', 'dart-sdk', 'webScrap', 'pythonProject', '._dart-sdk', 'flaskProject1', 'workspace.code-workspace', '._workspace.code-workspace', 'Java-Adventures', 'OSSPHINC PROJECT DOCS', '._monalisa2.png', '._OSSPHINC PROJECT DOCS', '.fseventsd', 'pms', 'OSSPH', 'OSS-Backup', 'The-R-Toolkit', 'licenses', '.temp', 'PHP', 'platform-tools', 'patcher', 'emulator', 'tools', 'platforms', 'build-tools', '.knownPackages', '._OVE-220512-193697.pdf', 'dump', 'package-lock.json', 'package.json', 'flaskProject', 'Hangman', 'owl.jpeg', 'FlaskWeatherApp', 'WeatherAppPreTest', 'Coffee Machine', 'OVE-220512-193697.pdf', 'flask-vue-crud', 'atlas_starter_python', 'Calculator for Investors', 'movies.json', 'okidoki-web', '.ipynb_checkpoints', 'Python And Flask Demonstrations Practice Course - Udemy']\n"
     ]
    }
   ],
   "source": [
    "os.chdir('/Volumes/OSSPHINC/') # changes directory\n",
    "print(os.listdir()) # list files and sub directories in the current directory"
   ]
  },
  {
   "cell_type": "code",
   "execution_count": 8,
   "id": "0b876aef-39d9-4ba4-a666-879659b926c7",
   "metadata": {},
   "outputs": [
    {
     "name": "stdout",
     "output_type": "stream",
     "text": [
      "['.Spotlight-V100', 'twitter_clone', 'OSSPHINC', 'Study', 'monalisa.jpg', 'monalisa2.png', 'Web Calendar', 'RN', 'Loan Calculator', '.TemporaryItems', '.Trashes', '._owl.jpeg', 'Pirple', '._monalisa.jpg', 'dart-sdk', 'webScrap', 'pythonProject', '._dart-sdk', 'flaskProject1', 'workspace.code-workspace', '._workspace.code-workspace', 'Java-Adventures', 'OSSPHINC PROJECT DOCS', '._monalisa2.png', '._OSSPHINC PROJECT DOCS', '.fseventsd', 'pms', 'OSSPH', 'OSS-Backup', 'The-R-Toolkit', 'licenses', '.temp', 'PHP', 'platform-tools', 'patcher', 'emulator', 'tools', 'platforms', 'build-tools', '.knownPackages', '._OVE-220512-193697.pdf', 'dump', 'package-lock.json', 'package.json', 'flaskProject', 'Hangman', 'owl.jpeg', 'FlaskWeatherApp', 'WeatherAppPreTest', 'Coffee Machine', 'OVE-220512-193697.pdf', 'flask-vue-crud', 'atlas_starter_python', 'Calculator for Investors', 'movies.json', 'okidoki-web', '.ipynb_checkpoints', 'New Dir 1', 'Python And Flask Demonstrations Practice Course - Udemy']\n"
     ]
    }
   ],
   "source": [
    "if os.path.exists('New Dir'):\n",
    "    os.rename('New Dir', 'New Dir 1') # renames existing dir\n",
    "else:\n",
    "    os.mkdir('New Dir') # create new directory\n",
    "\n",
    "print(os.listdir())"
   ]
  },
  {
   "cell_type": "code",
   "execution_count": null,
   "id": "b182fc8b-2d0d-4eac-885a-f0f8abb314eb",
   "metadata": {},
   "outputs": [],
   "source": [
    "os.remove('Sample.txt') # deletes a file\n",
    "os.rmdir('New Dir 1') # deletes a directory"
   ]
  }
 ],
 "metadata": {
  "kernelspec": {
   "display_name": "Python 3 (ipykernel)",
   "language": "python",
   "name": "python3"
  },
  "language_info": {
   "codemirror_mode": {
    "name": "ipython",
    "version": 3
   },
   "file_extension": ".py",
   "mimetype": "text/x-python",
   "name": "python",
   "nbconvert_exporter": "python",
   "pygments_lexer": "ipython3",
   "version": "3.9.9"
  }
 },
 "nbformat": 4,
 "nbformat_minor": 5
}
