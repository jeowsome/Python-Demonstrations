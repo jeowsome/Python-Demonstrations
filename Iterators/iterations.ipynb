{
 "cells": [
  {
   "cell_type": "code",
   "execution_count": 9,
   "id": "3d513865-005c-4ea2-8e37-b2b2a6313e27",
   "metadata": {},
   "outputs": [
    {
     "name": "stdout",
     "output_type": "stream",
     "text": [
      "[1, 4, 7, 10, 13, 16, 19, 22, 25, 28, 31, 34, 37, 40, 43, 46, 49, 52, 55, 58]\n",
      "1\n",
      "4\n",
      "7\n"
     ]
    }
   ],
   "source": [
    "new_list = [i for i in range(1, 60, 3)]\n",
    "print(new_list)\n",
    "\n",
    "new_iter = iter(new_list)\n",
    "print(next(new_iter))\n",
    "print(next(new_iter))\n",
    "print(next(new_iter))\n",
    "\n",
    "# will throw StopIteration if theres no more element"
   ]
  },
  {
   "cell_type": "code",
   "execution_count": 11,
   "id": "bd4448a5-d15c-4bea-aad9-367199776173",
   "metadata": {},
   "outputs": [
    {
     "name": "stdout",
     "output_type": "stream",
     "text": [
      "Class to implement an iterator of powers of two\n",
      "1\n",
      "2\n",
      "4\n"
     ]
    }
   ],
   "source": [
    "class Pow_of_Two:\n",
    "    '''Class to implement an iterator of powers of two'''\n",
    "    \n",
    "    def __init__(self, max=0):\n",
    "        self.max = max\n",
    "        \n",
    "    def __iter__(self):\n",
    "        self.n = 0\n",
    "        return self\n",
    "    \n",
    "    def __next__(self):\n",
    "        if self.n <= self.max:\n",
    "            result = 2 ** self.n\n",
    "            self.n += 1\n",
    "            return result\n",
    "        else:\n",
    "            raise StopIteration\n",
    "            \n",
    "print(Pow_of_Two.__doc__)\n",
    "a = Pow_of_Two(4)\n",
    "i = iter(a)\n",
    "print(next(i))\n",
    "print(next(i))\n",
    "print(next(i))\n",
    "\n"
   ]
  },
  {
   "cell_type": "code",
   "execution_count": 13,
   "id": "cd5ab7be-b651-4e05-9b01-9bbb28aaf63f",
   "metadata": {},
   "outputs": [
    {
     "name": "stdout",
     "output_type": "stream",
     "text": [
      "1\n",
      "3\n",
      "5\n",
      "7\n",
      "9\n",
      "11\n",
      "13\n",
      "15\n",
      "17\n",
      "19\n",
      "21\n",
      "23\n",
      "25\n",
      "27\n",
      "29\n",
      "31\n",
      "33\n",
      "35\n",
      "37\n",
      "39\n",
      "41\n",
      "43\n",
      "45\n",
      "47\n",
      "49\n",
      "51\n",
      "53\n",
      "55\n",
      "57\n",
      "59\n"
     ]
    }
   ],
   "source": [
    "class Infinite_Iter:\n",
    "    '''Infinite Iterator to return all odd numbers'''\n",
    "    \n",
    "    def __iter__(self):\n",
    "        self.num = 1\n",
    "        return self\n",
    "    \n",
    "    def __next__(self):\n",
    "        num = self.num\n",
    "        self.num += 2\n",
    "        return num\n",
    "    \n",
    "i = Infinite_Iter()\n",
    "a = iter(i)\n",
    "\n",
    "for x in range(30):\n",
    "    print(next(a))"
   ]
  }
 ],
 "metadata": {
  "kernelspec": {
   "display_name": "Python 3 (ipykernel)",
   "language": "python",
   "name": "python3"
  },
  "language_info": {
   "codemirror_mode": {
    "name": "ipython",
    "version": 3
   },
   "file_extension": ".py",
   "mimetype": "text/x-python",
   "name": "python",
   "nbconvert_exporter": "python",
   "pygments_lexer": "ipython3",
   "version": "3.9.9"
  }
 },
 "nbformat": 4,
 "nbformat_minor": 5
}
