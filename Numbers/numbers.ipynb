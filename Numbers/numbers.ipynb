{
 "cells": [
  {
   "cell_type": "code",
   "execution_count": 2,
   "id": "0d77e314-f5e2-463f-a24c-bacd6156b020",
   "metadata": {},
   "outputs": [
    {
     "name": "stdout",
     "output_type": "stream",
     "text": [
      "0.30000000000000004\n",
      "3.0\n"
     ]
    }
   ],
   "source": [
    "nums1 = 0.1 + 0.2\n",
    "print(nums1)\n",
    "\n",
    "nums2 = 1.20 * 2.50\n",
    "print(nums2)"
   ]
  },
  {
   "cell_type": "code",
   "execution_count": 6,
   "id": "12df7a6b-5a99-461a-9c9d-339ed56ba4e7",
   "metadata": {},
   "outputs": [
    {
     "name": "stdout",
     "output_type": "stream",
     "text": [
      "0.3\n",
      "2.999999999999999888977697537\n"
     ]
    }
   ],
   "source": [
    "from decimal import Decimal as D\n",
    "\n",
    "print(D('0.1') + D('0.2'))\n",
    "print(D(1.2) * D(2.5))"
   ]
  },
  {
   "cell_type": "code",
   "execution_count": 10,
   "id": "26cedfb7-09bd-426b-8148-471c2527ac44",
   "metadata": {},
   "outputs": [
    {
     "name": "stdout",
     "output_type": "stream",
     "text": [
      "3/2\n",
      "5\n",
      "1/5\n",
      "41/2\n"
     ]
    }
   ],
   "source": [
    "from fractions import Fraction as F\n",
    "\n",
    "print(F(1.5))\n",
    "print(F(5))\n",
    "print(F(1,5))\n",
    "print(F(\"20.5\"))"
   ]
  },
  {
   "cell_type": "code",
   "execution_count": 17,
   "id": "c19b558e-b18c-4478-9dcf-315a3fada8c5",
   "metadata": {},
   "outputs": [
    {
     "name": "stdout",
     "output_type": "stream",
     "text": [
      "3.141592653589793\n",
      "-0.8390715290764524\n",
      "2.302585092994046\n",
      "1.0\n",
      "22026.465794806718\n",
      "3628800\n",
      "11013.232874703393\n",
      "20\n"
     ]
    }
   ],
   "source": [
    "import math\n",
    "\n",
    "print(math.pi)\n",
    "print(math.cos(10))\n",
    "print(math.log(10))\n",
    "print(math.log10(10))\n",
    "print(math.exp(10))\n",
    "print(math.factorial(10))\n",
    "print(math.sinh(10))\n",
    "print(abs(-20))"
   ]
  },
  {
   "cell_type": "code",
   "execution_count": 16,
   "id": "395666cc-c464-4d51-971f-30758ea82c38",
   "metadata": {},
   "outputs": [
    {
     "name": "stdout",
     "output_type": "stream",
     "text": [
      "1\n",
      "2\n",
      "6\n",
      "24\n",
      "120\n",
      "720\n",
      "5040\n"
     ]
    }
   ],
   "source": [
    "for i in range(1, 8):\n",
    "    print(math.factorial(i))"
   ]
  },
  {
   "cell_type": "code",
   "execution_count": 25,
   "id": "769a71ac-d566-4607-ac97-e29547569d1f",
   "metadata": {},
   "outputs": [
    {
     "name": "stdout",
     "output_type": "stream",
     "text": [
      "10\n",
      "Wed\n",
      "['Mon', 'Tue', 'Wed']\n",
      "['Tue', 'Mon', 'Wed']\n",
      "0.26135835200310864\n"
     ]
    }
   ],
   "source": [
    "import random\n",
    "\n",
    "# generates number from givenranage, exclusive of the end number\n",
    "print(random.randrange(5, 15))\n",
    "\n",
    "# selects random element from a given iterable object\n",
    "day = [\"Mon\", \"Tue\", \"Wed\"]\n",
    "print(random.choice(day))\n",
    "\n",
    "print(day)\n",
    "# rearrranges the order of a given iterable object, modifies the object\n",
    "random.shuffle(day)\n",
    "\n",
    "print(day)\n",
    "\n",
    "# prints random element\n",
    "print(random.random())"
   ]
  }
 ],
 "metadata": {
  "kernelspec": {
   "display_name": "Python 3 (ipykernel)",
   "language": "python",
   "name": "python3"
  },
  "language_info": {
   "codemirror_mode": {
    "name": "ipython",
    "version": 3
   },
   "file_extension": ".py",
   "mimetype": "text/x-python",
   "name": "python",
   "nbconvert_exporter": "python",
   "pygments_lexer": "ipython3",
   "version": "3.9.9"
  }
 },
 "nbformat": 4,
 "nbformat_minor": 5
}
