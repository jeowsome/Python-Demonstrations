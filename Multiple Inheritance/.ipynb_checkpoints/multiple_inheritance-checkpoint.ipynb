{
 "cells": [
  {
   "cell_type": "code",
   "execution_count": null,
   "id": "838fb4df-3242-4dbb-b783-0b1e20c5c795",
   "metadata": {},
   "outputs": [],
   "source": [
    "class Base1:\n",
    "    pass\n",
    "\n",
    "class Base2:\n",
    "    pass\n",
    "\n",
    "class MultiDerived(Base1, Base2):\n",
    "    pass"
   ]
  },
  {
   "cell_type": "code",
   "execution_count": 3,
   "id": "84044e5c-2ba4-4e18-afa4-9efdf78a57c4",
   "metadata": {},
   "outputs": [
    {
     "name": "stdout",
     "output_type": "stream",
     "text": [
      "Base 1\n",
      "Base 2\n",
      "Base 3\n",
      "Multi Derived Child\n"
     ]
    }
   ],
   "source": [
    "class Base1:\n",
    "    def func1(self):\n",
    "        print(\"Base 1\")\n",
    "\n",
    "class Base2:\n",
    "    def func2(self):\n",
    "        print(\"Base 2\")\n",
    "\n",
    "class Base3:\n",
    "    def func3(self):\n",
    "        print(\"Base 3\")\n",
    "\n",
    "class MultiDerived(Base1, Base2, Base3):\n",
    "    def func_multi(self):\n",
    "        print(\"Multi Derived Child\")\n",
    "        \n",
    "\n",
    "md = MultiDerived()\n",
    "md.func1()\n",
    "md.func2()\n",
    "md.func3()\n",
    "md.func_multi()\n"
   ]
  }
 ],
 "metadata": {
  "kernelspec": {
   "display_name": "Python 3 (ipykernel)",
   "language": "python",
   "name": "python3"
  },
  "language_info": {
   "codemirror_mode": {
    "name": "ipython",
    "version": 3
   },
   "file_extension": ".py",
   "mimetype": "text/x-python",
   "name": "python",
   "nbconvert_exporter": "python",
   "pygments_lexer": "ipython3",
   "version": "3.9.9"
  }
 },
 "nbformat": 4,
 "nbformat_minor": 5
}
