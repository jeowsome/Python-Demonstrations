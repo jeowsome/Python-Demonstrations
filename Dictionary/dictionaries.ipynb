{
 "cells": [
  {
   "cell_type": "code",
   "execution_count": 1,
   "id": "0b4d9fc2-2502-4837-a05d-8325e1be64aa",
   "metadata": {},
   "outputs": [
    {
     "name": "stdout",
     "output_type": "stream",
     "text": [
      "hello\n",
      "None\n"
     ]
    }
   ],
   "source": [
    "sample_dict = {1: \"hello\", 2: \"Hi\", 3: \"Aloha\"}\n",
    "\n",
    "# .get returns None if key doesn't exist\n",
    "print(sample_dict.get(1))\n",
    "print(sample_dict.get(4))"
   ]
  },
  {
   "cell_type": "code",
   "execution_count": 2,
   "id": "06a78671-6c88-4fa4-bd4d-46b46ba07733",
   "metadata": {},
   "outputs": [
    {
     "name": "stdout",
     "output_type": "stream",
     "text": [
      "hello\n",
      "{2: 'Hi', 3: 'Aloha'}\n",
      "(3, 'Aloha')\n",
      "{2: 'Hi'}\n"
     ]
    }
   ],
   "source": [
    "# .pop removes a specific pair in the dictionary and returns it\n",
    "x = sample_dict.pop(1)\n",
    "print(x)\n",
    "print(sample_dict)\n",
    "\n",
    "# . popitems() removes the last pair in the dictionary and returns it\n",
    "z = sample_dict.popitem()\n",
    "print(z)\n",
    "print(sample_dict)\n",
    "\n",
    "# del dict[key] removes a specific pair in the dictionary\n",
    "del sample_dict[2]"
   ]
  },
  {
   "cell_type": "code",
   "execution_count": 5,
   "id": "bc0c3cf8-a031-469f-828d-d3c51ae50d3a",
   "metadata": {},
   "outputs": [
    {
     "name": "stdout",
     "output_type": "stream",
     "text": [
      "{1: 1, 2: 4, 3: 9, 4: 16, 5: 25}\n"
     ]
    }
   ],
   "source": [
    "squares = {i:i*i for i in range(1, 6)}\n",
    "\n",
    "# .clear removes all items\n",
    "squares.clear()\n",
    "\n",
    "# del dict deletes the whole dictionary"
   ]
  },
  {
   "cell_type": "code",
   "execution_count": 7,
   "id": "ba7668a4-4e9e-4009-839b-9fed5a44c00c",
   "metadata": {},
   "outputs": [
    {
     "name": "stdout",
     "output_type": "stream",
     "text": [
      "False\n",
      "True\n"
     ]
    }
   ],
   "source": [
    "# value in dict, tests if the value is a key in the dictionary\n",
    "print(6 in squares)\n",
    "print(5 in squares)"
   ]
  },
  {
   "cell_type": "code",
   "execution_count": 14,
   "id": "8e236114-0b61-4971-9430-49467b4a13fd",
   "metadata": {},
   "outputs": [
    {
     "name": "stdout",
     "output_type": "stream",
     "text": [
      "1\n",
      "2\n",
      "3\n",
      "4\n",
      "5\n",
      "dict lenght 5\n",
      "{3: 4, 5: 6, 1: 6, 2: 5}\n",
      "[1, 2, 3, 5]\n",
      "{3: 4, 5: 6, 1: 6, 2: 5}\n"
     ]
    }
   ],
   "source": [
    "# for i in dict, iterates over keys in the dictionary\n",
    "for i in squares:\n",
    "    print(i)\n",
    "    \n",
    "# len() returns the length of dictionary or number of key, value pairs\n",
    "print(\"dict lenght \" + str(len(squares)))\n",
    "\n",
    "# returns a list containing sorted keys of the dictionary, doesn't modify the dictionary\n",
    "another_dict = {3: 4, 5: 6, 1: 6, 2: 5}\n",
    "print(sorted(another_dict))\n",
    "print(another_dict)"
   ]
  }
 ],
 "metadata": {
  "kernelspec": {
   "display_name": "Python 3 (ipykernel)",
   "language": "python",
   "name": "python3"
  },
  "language_info": {
   "codemirror_mode": {
    "name": "ipython",
    "version": 3
   },
   "file_extension": ".py",
   "mimetype": "text/x-python",
   "name": "python",
   "nbconvert_exporter": "python",
   "pygments_lexer": "ipython3",
   "version": "3.9.9"
  }
 },
 "nbformat": 4,
 "nbformat_minor": 5
}
