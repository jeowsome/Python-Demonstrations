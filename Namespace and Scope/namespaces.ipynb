{
 "cells": [
  {
   "cell_type": "code",
   "execution_count": 8,
   "id": "20e6e06c-59c1-493a-9386-30ed4037ab24",
   "metadata": {},
   "outputs": [
    {
     "name": "stdout",
     "output_type": "stream",
     "text": [
      "4590930736\n",
      "4590930736\n",
      "4544092816\n",
      "4544092816\n"
     ]
    }
   ],
   "source": [
    "# Name / Identifier is simply the name of a given object.\n",
    "\n",
    "# id() returns the address in memory of a given object\n",
    "\n",
    "# Strings are immutable values, they are stored in a specific address in memory.\n",
    "apple = 'apple'\n",
    "print(id('apple'))\n",
    "print(id(apple))\n",
    "\n",
    "number1 = 12\n",
    "print(id(12))\n",
    "print(id(number1))"
   ]
  },
  {
   "cell_type": "code",
   "execution_count": 10,
   "id": "618f7f3f-1bdb-40c4-81f8-6c9aeeb91e03",
   "metadata": {},
   "outputs": [
    {
     "name": "stdout",
     "output_type": "stream",
     "text": [
      "Non Func: a = 10\n",
      "Before Inner Func: a = 20\n",
      "Inner Func: a = 50\n",
      "After Inner Func: a = 50\n",
      "After Func call: a = 50\n"
     ]
    }
   ],
   "source": [
    "def outer_func():\n",
    "    global a\n",
    "    a = 20\n",
    "    print(\"Before Inner Func: a =\", a)\n",
    "    def inner_func():\n",
    "        global a\n",
    "        a += 30\n",
    "        print(\"Inner Func: a =\", a)\n",
    "        \n",
    "    inner_func()\n",
    "    print(\"After Inner Func: a =\", a)\n",
    "    \n",
    "a = 10\n",
    "print(\"Non Func: a =\", a)\n",
    "outer_func()\n",
    "print(\"After Func call: a =\", a)"
   ]
  }
 ],
 "metadata": {
  "kernelspec": {
   "display_name": "Python 3 (ipykernel)",
   "language": "python",
   "name": "python3"
  },
  "language_info": {
   "codemirror_mode": {
    "name": "ipython",
    "version": 3
   },
   "file_extension": ".py",
   "mimetype": "text/x-python",
   "name": "python",
   "nbconvert_exporter": "python",
   "pygments_lexer": "ipython3",
   "version": "3.9.9"
  }
 },
 "nbformat": 4,
 "nbformat_minor": 5
}
