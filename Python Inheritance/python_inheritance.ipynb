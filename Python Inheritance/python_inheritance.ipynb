{
 "cells": [
  {
   "cell_type": "code",
   "execution_count": 2,
   "id": "53899b6c-5f7e-43d0-b970-70a20759ec99",
   "metadata": {},
   "outputs": [],
   "source": [
    "class Bird:\n",
    "    def __init__(self):\n",
    "        print(\"I am a bird\")\n",
    "        \n",
    "    def can_fly(self):\n",
    "        print(\"I can fly\")"
   ]
  },
  {
   "cell_type": "code",
   "execution_count": 3,
   "id": "d6ee3b29-7214-4c04-bddb-77df3b92996c",
   "metadata": {},
   "outputs": [],
   "source": [
    "class Duck(Bird):\n",
    "    def __init__(self):\n",
    "        super().__init__()\n",
    "        print(\"I can swim\")\n",
    "        \n",
    "    def can_swim(self):\n",
    "        print(\"Swim swim swim\")"
   ]
  },
  {
   "cell_type": "code",
   "execution_count": 4,
   "id": "56640847-1dbf-4a1c-bb65-99732d00d023",
   "metadata": {},
   "outputs": [
    {
     "name": "stdout",
     "output_type": "stream",
     "text": [
      "I am a bird\n",
      "I can swim\n",
      "I am a bird\n"
     ]
    }
   ],
   "source": [
    "duck = Duck()\n",
    "birdy = Bird()"
   ]
  }
 ],
 "metadata": {
  "kernelspec": {
   "display_name": "Python 3 (ipykernel)",
   "language": "python",
   "name": "python3"
  },
  "language_info": {
   "codemirror_mode": {
    "name": "ipython",
    "version": 3
   },
   "file_extension": ".py",
   "mimetype": "text/x-python",
   "name": "python",
   "nbconvert_exporter": "python",
   "pygments_lexer": "ipython3",
   "version": "3.9.9"
  }
 },
 "nbformat": 4,
 "nbformat_minor": 5
}
